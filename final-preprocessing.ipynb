{
 "cells": [
  {
   "cell_type": "code",
   "execution_count": 1,
   "id": "911b368d",
   "metadata": {
    "execution": {
     "iopub.execute_input": "2022-08-28T14:44:29.147991Z",
     "iopub.status.busy": "2022-08-28T14:44:29.146687Z",
     "iopub.status.idle": "2022-08-28T14:44:34.973705Z",
     "shell.execute_reply": "2022-08-28T14:44:34.972022Z"
    },
    "papermill": {
     "duration": 5.835738,
     "end_time": "2022-08-28T14:44:34.976947",
     "exception": false,
     "start_time": "2022-08-28T14:44:29.141209",
     "status": "completed"
    },
    "tags": []
   },
   "outputs": [],
   "source": [
    "import openslide\n",
    "import pandas as pd\n",
    "import numpy as np\n",
    "from tqdm import tqdm\n",
    "import os\n",
    "import matplotlib.pyplot as plt\n",
    "from PIL import Image\n",
    "import cv2\n",
    "import ast\n",
    "import tensorflow as tf\n",
    "from tensorflow import keras"
   ]
  },
  {
   "cell_type": "code",
   "execution_count": 2,
   "id": "d289fc26",
   "metadata": {
    "execution": {
     "iopub.execute_input": "2022-08-28T14:44:34.984626Z",
     "iopub.status.busy": "2022-08-28T14:44:34.983888Z",
     "iopub.status.idle": "2022-08-28T14:44:34.999062Z",
     "shell.execute_reply": "2022-08-28T14:44:34.998153Z"
    },
    "papermill": {
     "duration": 0.021786,
     "end_time": "2022-08-28T14:44:35.001539",
     "exception": false,
     "start_time": "2022-08-28T14:44:34.979753",
     "status": "completed"
    },
    "tags": []
   },
   "outputs": [],
   "source": [
    "df = pd.read_csv('../input/mayo-clinic-strip-ai/train.csv')"
   ]
  },
  {
   "cell_type": "code",
   "execution_count": 3,
   "id": "05056c2b",
   "metadata": {
    "execution": {
     "iopub.execute_input": "2022-08-28T14:44:35.008071Z",
     "iopub.status.busy": "2022-08-28T14:44:35.007557Z",
     "iopub.status.idle": "2022-08-28T14:44:35.012178Z",
     "shell.execute_reply": "2022-08-28T14:44:35.011487Z"
    },
    "papermill": {
     "duration": 0.010067,
     "end_time": "2022-08-28T14:44:35.014170",
     "exception": false,
     "start_time": "2022-08-28T14:44:35.004103",
     "status": "completed"
    },
    "tags": []
   },
   "outputs": [],
   "source": [
    "def get_patch(path, tl_pixel, patch_shape):\n",
    "    img = openslide.open_slide(path)\n",
    "    img = np.array(img.read_region(tl_pixel, 0, patch_shape).convert(\"RGB\"))\n",
    "    return cv2.resize(img/255.0, (512, 512))"
   ]
  },
  {
   "cell_type": "code",
   "execution_count": null,
   "id": "6e9414e2",
   "metadata": {
    "execution": {
     "iopub.execute_input": "2022-08-28T14:44:35.020382Z",
     "iopub.status.busy": "2022-08-28T14:44:35.019865Z",
     "iopub.status.idle": "2022-08-29T01:29:03.353659Z",
     "shell.execute_reply": "2022-08-29T01:29:03.350572Z"
    },
    "papermill": {
     "duration": 38668.345315,
     "end_time": "2022-08-29T01:29:03.361830",
     "exception": false,
     "start_time": "2022-08-28T14:44:35.016515",
     "status": "completed"
    },
    "tags": []
   },
   "outputs": [],
   "source": [
    "def get_patch2(os_obj, tl_pixel, patch_shape):\n",
    "    return np.array(os_obj.read_region(tl_pixel, 0, patch_shape).convert(\"RGB\"))\n",
    "\n",
    "final_data = pd.DataFrame()\n",
    "ids = []\n",
    "for n in tqdm(range(df.shape[0])):\n",
    "    img_path = \"../input/mayo-clinic-strip-ai/train/\"+df.iloc[n]['image_id']+\".tif\"\n",
    "    label = df.iloc[n]['label']\n",
    "    i_id  = df.iloc[n]['image_id']\n",
    "    ids.append(i_id)\n",
    "    img  = openslide.open_slide(img_path)\n",
    "    series = pd.Series()\n",
    "    for i in range(img.dimensions[0]//25,img.dimensions[0]-img.dimensions[0]//25,512):\n",
    "        for j in range(img.dimensions[0]//25,img.dimensions[0]-img.dimensions[0]//25,512):\n",
    "            im = get_patch2(img , (i,j), (512,512) )\n",
    "            if im.std()>40.0:\n",
    "                s = pd.Series(data = [(i,j)])\n",
    "                series = series.append(s,ignore_index=True)\n",
    "                series = series.reset_index()\n",
    "                series = series.drop(\"index\",axis=1)\n",
    "    final_data = pd.concat([final_data , series],axis=1)\n",
    "    final_data.columns = ids"
   ]
  },
  {
   "cell_type": "code",
   "execution_count": 5,
   "id": "8bbf952d",
   "metadata": {
    "execution": {
     "iopub.execute_input": "2022-08-29T01:29:03.463741Z",
     "iopub.status.busy": "2022-08-29T01:29:03.462226Z",
     "iopub.status.idle": "2022-08-29T01:29:04.484264Z",
     "shell.execute_reply": "2022-08-29T01:29:04.482992Z"
    },
    "papermill": {
     "duration": 1.076421,
     "end_time": "2022-08-29T01:29:04.487470",
     "exception": false,
     "start_time": "2022-08-29T01:29:03.411049",
     "status": "completed"
    },
    "tags": []
   },
   "outputs": [],
   "source": [
    "final_data.T.to_csv('./navigation_v2.csv')"
   ]
  },
  {
   "cell_type": "code",
   "execution_count": null,
   "id": "e11481aa",
   "metadata": {
    "papermill": {
     "duration": 0.046112,
     "end_time": "2022-08-29T01:29:04.580106",
     "exception": false,
     "start_time": "2022-08-29T01:29:04.533994",
     "status": "completed"
    },
    "tags": []
   },
   "outputs": [],
   "source": []
  }
 ],
 "metadata": {
  "kernelspec": {
   "display_name": "Python 3.7.12 ('eon')",
   "language": "python",
   "name": "python3"
  },
  "language_info": {
   "codemirror_mode": {
    "name": "ipython",
    "version": 3
   },
   "file_extension": ".py",
   "mimetype": "text/x-python",
   "name": "python",
   "nbconvert_exporter": "python",
   "pygments_lexer": "ipython3",
   "version": "3.7.12"
  },
  "papermill": {
   "default_parameters": {},
   "duration": 38687.618416,
   "end_time": "2022-08-29T01:29:07.498658",
   "environment_variables": {},
   "exception": null,
   "input_path": "__notebook__.ipynb",
   "output_path": "__notebook__.ipynb",
   "parameters": {},
   "start_time": "2022-08-28T14:44:19.880242",
   "version": "2.3.4"
  },
  "vscode": {
   "interpreter": {
    "hash": "83a8fbab758f375a7ed0e4b69e6b1f07560166042b7c118c314e52c1c9ab8f98"
   }
  }
 },
 "nbformat": 4,
 "nbformat_minor": 5
}
